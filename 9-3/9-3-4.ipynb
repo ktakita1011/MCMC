{
 "cells": [
  {
   "cell_type": "code",
   "execution_count": 1,
   "metadata": {},
   "outputs": [
    {
     "name": "stdout",
     "output_type": "stream",
     "text": [
      "0.9.0\n"
     ]
    }
   ],
   "source": [
    "import seaborn as sns; sns.set(font=\"IPAexGothic\")\n",
    "import matplotlib.pyplot as plt\n",
    "%matplotlib inline\n",
    "import japanize_matplotlib\n",
    "print(sns.__version__)\n",
    "\n",
    "import numpy as np\n",
    "import pandas as pd\n",
    "import statsmodels.api as sm\n",
    "import statsmodels.formula.api as smf\n",
    "%matplotlib inline\n",
    "\n",
    "np.random.seed(1000)"
   ]
  },
  {
   "cell_type": "markdown",
   "metadata": {},
   "source": [
    "$$ {}_LC_l \n",
    "\\left( \\frac{1}{1+exp(-(\\beta_{0} + \\beta_{1}*x + \\beta_{2}*f))} \\right)^l\n",
    "\\left( 1- \\frac{1}{1+exp(-(\\beta_{0} + \\beta_{1}*x + \\beta_{2}*f))} \\right)^(L-l)$$"
   ]
  },
  {
   "cell_type": "code",
   "execution_count": 2,
   "metadata": {},
   "outputs": [],
   "source": [
    "from scipy.special import comb\n",
    "import math\n",
    "\n",
    "def func(L,l,beta1,beta2,beta3,x,f):\n",
    "    theta = beta1 + beta2 * x + beta3 * f\n",
    "    \n",
    "    combination = comb(L,l)\n",
    "    \n",
    "    left = (1+math.exp(-1 * theta))**(-l)\n",
    "    right = (1+math.exp(theta))**(l-L)\n",
    "    \n",
    "    return combination * left * right"
   ]
  },
  {
   "cell_type": "code",
   "execution_count": 3,
   "metadata": {},
   "outputs": [
    {
     "name": "stdout",
     "output_type": "stream",
     "text": [
      "[5, 6, 7, 8, 9, 10, 11, 12, 13]\n"
     ]
    }
   ],
   "source": [
    "\n",
    "L = 12\n",
    "new_x = list(range(5,14,1)) #体サイズ\n",
    "print(new_x)\n",
    "f_on = 0 #肥料あり tmpdata\n",
    "f_off = 0#肥料なし tmpdata\n",
    "\n",
    "f_on_list = []\n",
    "f_off_list = []\n",
    "\n",
    "for x in new_x:\n",
    "    f_on = 0\n",
    "    f_off = 0\n",
    "    \n",
    "    for i in range(L+1):\n",
    "        f_on += i * func(L,i,-19.61,1.96,2.03,x,0)\n",
    "        f_off += i * func(L,i,-19.61,1.96,2.03,x,1)\n",
    "        \n",
    "    f_on_list.append(f_on)\n",
    "    f_off_list.append(f_off)"
   ]
  },
  {
   "cell_type": "code",
   "execution_count": 4,
   "metadata": {},
   "outputs": [
    {
     "data": {
      "text/plain": [
       "([0.0006587619956547905,\n",
       "  0.004675201450065916,\n",
       "  0.03311209995401947,\n",
       "  0.23118279157910016,\n",
       "  1.4686666418765884,\n",
       "  5.9700002499975104,\n",
       "  10.505359701751008,\n",
       "  11.764238760627741,\n",
       "  11.966220874185312],\n",
       " [0.0050140501613206235,\n",
       "  0.03550589426288676,\n",
       "  0.24759956672287423,\n",
       "  1.561301692355974,\n",
       "  6.179946019432923,\n",
       "  10.594572109490635,\n",
       "  11.779885311627076,\n",
       "  11.968498556920082,\n",
       "  11.99555272631247])"
      ]
     },
     "execution_count": 4,
     "metadata": {},
     "output_type": "execute_result"
    }
   ],
   "source": [
    "f_on_list,f_off_list"
   ]
  },
  {
   "cell_type": "code",
   "execution_count": 6,
   "metadata": {},
   "outputs": [
    {
     "data": {
      "text/plain": [
       "Text(0, 0.5, '数')"
      ]
     },
     "execution_count": 6,
     "metadata": {},
     "output_type": "execute_result"
    },
    {
     "data": {
      "image/png": "[encoded data removed]",
      "text/plain": [
       "<Figure size 432x288 with 1 Axes>"
      ]
     },
     "metadata": {
      "needs_background": "light"
     },
     "output_type": "display_data"
    }
   ],
   "source": [
    "sns.scatterplot(new_x,f_on_list,label=('肥料あり'))\n",
    "sns.scatterplot(new_x,f_off_list,label=('肥料なし'))\n",
    "plt.xlabel('体サイズ')\n",
    "plt.ylabel('数')"
   ]
  },
  {
   "cell_type": "code",
   "execution_count": null,
   "metadata": {},
   "outputs": [],
   "source": []
  }
 ],
 "metadata": {
  "kernelspec": {
   "display_name": "Python 3",
   "language": "python",
   "name": "python3"
  },
  "language_info": {
   "codemirror_mode": {
    "name": "ipython",
    "version": 3
   },
   "file_extension": ".py",
   "mimetype": "text/x-python",
   "name": "python",
   "nbconvert_exporter": "python",
   "pygments_lexer": "ipython3",
   "version": "3.6.7"
  },
  "toc": {
   "base_numbering": 1,
   "nav_menu": {},
   "number_sections": true,
   "sideBar": true,
   "skip_h1_title": false,
   "title_cell": "Table of Contents",
   "title_sidebar": "Contents",
   "toc_cell": false,
   "toc_position": {},
   "toc_section_display": true,
   "toc_window_display": false
  }
 },
 "nbformat": 4,
 "nbformat_minor": 2
}
